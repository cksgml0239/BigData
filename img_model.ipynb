{
 "cells": [
  {
   "cell_type": "markdown",
   "metadata": {
    "colab_type": "text",
    "id": "aNFijXs-lu2W"
   },
   "source": [
    "# 이미지 웹 크롤링 in 크롬"
   ]
  },
  {
   "cell_type": "code",
   "execution_count": null,
   "metadata": {
    "colab": {},
    "colab_type": "code",
    "id": "RW91AQTLl5oE"
   },
   "outputs": [],
   "source": []
  },
  {
   "cell_type": "markdown",
   "metadata": {
    "colab_type": "text",
    "id": "175n9SKfyIGN"
   },
   "source": []
  },
  {
   "cell_type": "code",
   "execution_count": 4,
   "metadata": {
    "colab": {},
    "colab_type": "code",
    "id": "2sBU3jc_yI3E"
   },
   "outputs": [
    {
     "name": "stdout",
     "output_type": "stream",
     "text": [
      "Collecting google-api-python-client\n",
      "  Downloading https://files.pythonhosted.org/packages/5e/19/9fd511734c0dee8fa3d49f4109c75e7f95d3c31ed76c0e4a93fbba147807/google-api-python-client-1.7.11.tar.gz (142kB)\n",
      "Collecting httplib2<1dev,>=0.9.2 (from google-api-python-client)\n",
      "  Downloading https://files.pythonhosted.org/packages/d2/84/f97b9efdb17c9b73e133bdbf2b4bfd09cd0be655e36e3ee3c4bec9095048/httplib2-0.14.0-py3-none-any.whl (94kB)\n",
      "Collecting google-auth>=1.4.1 (from google-api-python-client)\n",
      "  Downloading https://files.pythonhosted.org/packages/c5/9b/ed0516cc1f7609fb0217e3057ff4f0f9f3e3ce79a369c6af4a6c5ca25664/google_auth-1.6.3-py2.py3-none-any.whl (73kB)\n",
      "Collecting google-auth-httplib2>=0.0.3 (from google-api-python-client)\n",
      "  Downloading https://files.pythonhosted.org/packages/33/49/c814d6d438b823441552198f096fcd0377fd6c88714dbed34f1d3c8c4389/google_auth_httplib2-0.0.3-py2.py3-none-any.whl\n",
      "Requirement already satisfied, skipping upgrade: six<2dev,>=1.6.1 in c:\\anaconda3\\lib\\site-packages (from google-api-python-client) (1.12.0)\n",
      "Collecting uritemplate<4dev,>=3.0.0 (from google-api-python-client)\n",
      "  Downloading https://files.pythonhosted.org/packages/e5/7d/9d5a640c4f8bf2c8b1afc015e9a9d8de32e13c9016dcc4b0ec03481fb396/uritemplate-3.0.0-py2.py3-none-any.whl\n",
      "Collecting pyasn1-modules>=0.2.1 (from google-auth>=1.4.1->google-api-python-client)\n",
      "  Downloading https://files.pythonhosted.org/packages/52/50/bb4cefca37da63a0c52218ba2cb1b1c36110d84dcbae8aa48cd67c5e95c2/pyasn1_modules-0.2.7-py2.py3-none-any.whl (131kB)\n",
      "Collecting rsa>=3.1.4 (from google-auth>=1.4.1->google-api-python-client)\n",
      "  Downloading https://files.pythonhosted.org/packages/02/e5/38518af393f7c214357079ce67a317307936896e961e35450b70fad2a9cf/rsa-4.0-py2.py3-none-any.whl\n",
      "Collecting cachetools>=2.0.0 (from google-auth>=1.4.1->google-api-python-client)\n",
      "  Downloading https://files.pythonhosted.org/packages/2f/a6/30b0a0bef12283e83e58c1d6e7b5aabc7acfc4110df81a4471655d33e704/cachetools-3.1.1-py2.py3-none-any.whl\n",
      "Collecting pyasn1<0.5.0,>=0.4.6 (from pyasn1-modules>=0.2.1->google-auth>=1.4.1->google-api-python-client)\n",
      "  Downloading https://files.pythonhosted.org/packages/a1/71/8f0d444e3a74e5640a3d5d967c1c6b015da9c655f35b2d308a55d907a517/pyasn1-0.4.7-py2.py3-none-any.whl (76kB)\n",
      "Building wheels for collected packages: google-api-python-client\n",
      "  Building wheel for google-api-python-client (setup.py): started\n",
      "  Building wheel for google-api-python-client (setup.py): finished with status 'done'\n",
      "  Stored in directory: C:\\Users\\user\\AppData\\Local\\pip\\Cache\\wheels\\b8\\f6\\f5\\b7bef1a5bc0e07ca4aa54c596b0b574c5afc07a9fddccf08f8\n",
      "Successfully built google-api-python-client\n",
      "Installing collected packages: httplib2, pyasn1, pyasn1-modules, rsa, cachetools, google-auth, google-auth-httplib2, uritemplate, google-api-python-client\n",
      "Successfully installed cachetools-3.1.1 google-api-python-client-1.7.11 google-auth-1.6.3 google-auth-httplib2-0.0.3 httplib2-0.14.0 pyasn1-0.4.7 pyasn1-modules-0.2.7 rsa-4.0 uritemplate-3.0.0\n",
      "Note: you may need to restart the kernel to use updated packages.\n"
     ]
    }
   ],
   "source": [
    "pip install --upgrade google-api-python-client"
   ]
  },
  {
   "cell_type": "code",
   "execution_count": 9,
   "metadata": {},
   "outputs": [
    {
     "name": "stdout",
     "output_type": "stream",
     "text": [
      "Collecting google-cloud-vision\n",
      "  Downloading https://files.pythonhosted.org/packages/ec/e3/77b17733592fde11b7250444ddedd8d04ae1be6f0f4c0d9f47ed154a686e/google_cloud_vision-0.39.0-py2.py3-none-any.whl (418kB)\n",
      "Collecting google-api-core[grpc]<2.0.0dev,>=1.14.0 (from google-cloud-vision)\n",
      "  Downloading https://files.pythonhosted.org/packages/29/3a/c528ef37f48d6ffba16f0f3c0426456ba21e0dd32be9c61a2ade93e07faa/google_api_core-1.14.3-py2.py3-none-any.whl (68kB)\n",
      "Requirement already satisfied: setuptools>=34.0.0 in c:\\anaconda3\\lib\\site-packages (from google-api-core[grpc]<2.0.0dev,>=1.14.0->google-cloud-vision) (41.0.1)\n",
      "Collecting protobuf>=3.4.0 (from google-api-core[grpc]<2.0.0dev,>=1.14.0->google-cloud-vision)\n",
      "  Downloading https://files.pythonhosted.org/packages/a8/ae/a11b9b0c8e2410b11887881990b71f54ec39b17c4de2b5d850ef66aade8c/protobuf-3.10.0-cp37-cp37m-win_amd64.whl (1.0MB)\n",
      "Requirement already satisfied: requests<3.0.0dev,>=2.18.0 in c:\\anaconda3\\lib\\site-packages (from google-api-core[grpc]<2.0.0dev,>=1.14.0->google-cloud-vision) (2.22.0)\n",
      "Requirement already satisfied: six>=1.10.0 in c:\\anaconda3\\lib\\site-packages (from google-api-core[grpc]<2.0.0dev,>=1.14.0->google-cloud-vision) (1.12.0)\n",
      "Requirement already satisfied: google-auth<2.0dev,>=0.4.0 in c:\\anaconda3\\lib\\site-packages (from google-api-core[grpc]<2.0.0dev,>=1.14.0->google-cloud-vision) (1.6.3)\n",
      "Requirement already satisfied: pytz in c:\\anaconda3\\lib\\site-packages (from google-api-core[grpc]<2.0.0dev,>=1.14.0->google-cloud-vision) (2019.1)\n",
      "Collecting googleapis-common-protos<2.0dev,>=1.6.0 (from google-api-core[grpc]<2.0.0dev,>=1.14.0->google-cloud-vision)\n",
      "  Downloading https://files.pythonhosted.org/packages/eb/ee/e59e74ecac678a14d6abefb9054f0bbcb318a6452a30df3776f133886d7d/googleapis-common-protos-1.6.0.tar.gz\n",
      "Collecting grpcio<2.0dev,>=1.8.2; extra == \"grpc\" (from google-api-core[grpc]<2.0.0dev,>=1.14.0->google-cloud-vision)\n",
      "  Downloading https://files.pythonhosted.org/packages/4c/e5/79974f0288e36be3205e71f91e0dbe2a5746ccaa84780c65c4d75fa4b269/grpcio-1.24.1-cp37-cp37m-win_amd64.whl (1.6MB)\n",
      "Requirement already satisfied: certifi>=2017.4.17 in c:\\anaconda3\\lib\\site-packages (from requests<3.0.0dev,>=2.18.0->google-api-core[grpc]<2.0.0dev,>=1.14.0->google-cloud-vision) (2019.6.16)\n",
      "Requirement already satisfied: urllib3!=1.25.0,!=1.25.1,<1.26,>=1.21.1 in c:\\anaconda3\\lib\\site-packages (from requests<3.0.0dev,>=2.18.0->google-api-core[grpc]<2.0.0dev,>=1.14.0->google-cloud-vision) (1.24.2)\n",
      "Requirement already satisfied: idna<2.9,>=2.5 in c:\\anaconda3\\lib\\site-packages (from requests<3.0.0dev,>=2.18.0->google-api-core[grpc]<2.0.0dev,>=1.14.0->google-cloud-vision) (2.8)\n",
      "Requirement already satisfied: chardet<3.1.0,>=3.0.2 in c:\\anaconda3\\lib\\site-packages (from requests<3.0.0dev,>=2.18.0->google-api-core[grpc]<2.0.0dev,>=1.14.0->google-cloud-vision) (3.0.4)\n",
      "Requirement already satisfied: pyasn1-modules>=0.2.1 in c:\\anaconda3\\lib\\site-packages (from google-auth<2.0dev,>=0.4.0->google-api-core[grpc]<2.0.0dev,>=1.14.0->google-cloud-vision) (0.2.7)\n",
      "Requirement already satisfied: rsa>=3.1.4 in c:\\anaconda3\\lib\\site-packages (from google-auth<2.0dev,>=0.4.0->google-api-core[grpc]<2.0.0dev,>=1.14.0->google-cloud-vision) (4.0)\n",
      "Requirement already satisfied: cachetools>=2.0.0 in c:\\anaconda3\\lib\\site-packages (from google-auth<2.0dev,>=0.4.0->google-api-core[grpc]<2.0.0dev,>=1.14.0->google-cloud-vision) (3.1.1)\n",
      "Requirement already satisfied: pyasn1<0.5.0,>=0.4.6 in c:\\anaconda3\\lib\\site-packages (from pyasn1-modules>=0.2.1->google-auth<2.0dev,>=0.4.0->google-api-core[grpc]<2.0.0dev,>=1.14.0->google-cloud-vision) (0.4.7)\n",
      "Building wheels for collected packages: googleapis-common-protos\n",
      "  Building wheel for googleapis-common-protos (setup.py): started\n",
      "  Building wheel for googleapis-common-protos (setup.py): finished with status 'done'\n",
      "  Stored in directory: C:\\Users\\user\\AppData\\Local\\pip\\Cache\\wheels\\9e\\3d\\a2\\1bec8bb7db80ab3216dbc33092bb7ccd0debfb8ba42b5668d5\n",
      "Successfully built googleapis-common-protos\n",
      "Installing collected packages: protobuf, googleapis-common-protos, grpcio, google-api-core, google-cloud-vision\n",
      "Successfully installed google-api-core-1.14.3 google-cloud-vision-0.39.0 googleapis-common-protos-1.6.0 grpcio-1.24.1 protobuf-3.10.0\n",
      "Note: you may need to restart the kernel to use updated packages.\n"
     ]
    }
   ],
   "source": [
    "\n",
    "pip install google-cloud-vision"
   ]
  },
  {
   "cell_type": "code",
   "execution_count": 13,
   "metadata": {},
   "outputs": [
    {
     "name": "stdout",
     "output_type": "stream",
     "text": [
      "Collecting google.colab\n",
      "  Downloading https://files.pythonhosted.org/packages/70/9f/d3ec1275a089ec017f9c91af22ecd1e2fe738254b944e7a1f9528fcfacd0/google-colab-1.0.0.tar.gz (72kB)\n",
      "Collecting google-auth~=1.4.0 (from google.colab)\n",
      "  Downloading https://files.pythonhosted.org/packages/56/80/369a47c28ce7d9be6a6973338133d073864d8efbb62747e414c34a3a5f4f/google_auth-1.4.2-py2.py3-none-any.whl (64kB)\n",
      "Collecting ipykernel~=4.6.0 (from google.colab)\n",
      "  Downloading https://files.pythonhosted.org/packages/18/c3/76775a650cae2e3d9c033b26153583e61282692d9a3af12a3022d8f0cefa/ipykernel-4.6.1-py3-none-any.whl (104kB)\n",
      "Collecting ipython~=5.5.0 (from google.colab)\n",
      "  Downloading https://files.pythonhosted.org/packages/07/63/c987612bcf82c56eaacaf6bf01e31e53a244a0a3a0fb036ec5adc377e0fe/ipython-5.5.0-py3-none-any.whl (758kB)\n",
      "Collecting notebook~=5.2.0 (from google.colab)\n",
      "  Downloading https://files.pythonhosted.org/packages/96/a2/d951ebb7855743f989287486ded73cd3f66915c3ecd9c5c5a0c7ca12377a/notebook-5.2.2-py2.py3-none-any.whl (8.0MB)\n",
      "Requirement already satisfied: six~=1.12.0 in c:\\anaconda3\\lib\\site-packages (from google.colab) (1.12.0)\n",
      "Requirement already satisfied: pandas~=0.24.0 in c:\\anaconda3\\lib\\site-packages (from google.colab) (0.24.2)\n",
      "Collecting portpicker~=1.2.0 (from google.colab)\n",
      "  Downloading https://files.pythonhosted.org/packages/49/2c/a75ef568273036aa61319a554164e6031e31708106ea6ca10e17265e1703/portpicker-1.2.0.tar.gz\n",
      "Collecting requests~=2.21.0 (from google.colab)\n",
      "  Downloading https://files.pythonhosted.org/packages/7d/e3/20f3d364d6c8e5d2353c72a67778eb189176f08e873c9900e10c0287b84b/requests-2.21.0-py2.py3-none-any.whl (57kB)\n",
      "Collecting tornado~=4.5.0 (from google.colab)\n",
      "  Downloading https://files.pythonhosted.org/packages/e3/7b/e29ab3d51c8df66922fea216e2bddfcb6430fb29620e5165b16a216e0d3c/tornado-4.5.3.tar.gz (484kB)\n",
      "Requirement already satisfied: pyasn1-modules>=0.2.1 in c:\\anaconda3\\lib\\site-packages (from google-auth~=1.4.0->google.colab) (0.2.7)\n",
      "Requirement already satisfied: cachetools>=2.0.0 in c:\\anaconda3\\lib\\site-packages (from google-auth~=1.4.0->google.colab) (3.1.1)\n",
      "Requirement already satisfied: rsa>=3.1.4 in c:\\anaconda3\\lib\\site-packages (from google-auth~=1.4.0->google.colab) (4.0)\n",
      "Requirement already satisfied: traitlets>=4.1.0 in c:\\anaconda3\\lib\\site-packages (from ipykernel~=4.6.0->google.colab) (4.3.2)\n",
      "Requirement already satisfied: jupyter-client in c:\\anaconda3\\lib\\site-packages (from ipykernel~=4.6.0->google.colab) (5.3.1)\n",
      "Collecting prompt-toolkit<2.0.0,>=1.0.4 (from ipython~=5.5.0->google.colab)\n",
      "  Downloading https://files.pythonhosted.org/packages/64/27/5fd61a451d086ad4aa806dc72fe1383d2bc0e74323668672287f616d5d51/prompt_toolkit-1.0.18-py3-none-any.whl (245kB)\n",
      "Requirement already satisfied: colorama; sys_platform == \"win32\" in c:\\anaconda3\\lib\\site-packages (from ipython~=5.5.0->google.colab) (0.4.1)\n",
      "Requirement already satisfied: simplegeneric>0.8 in c:\\anaconda3\\lib\\site-packages (from ipython~=5.5.0->google.colab) (0.8.1)\n",
      "Requirement already satisfied: pygments in c:\\anaconda3\\lib\\site-packages (from ipython~=5.5.0->google.colab) (2.4.2)\n",
      "Requirement already satisfied: pickleshare in c:\\anaconda3\\lib\\site-packages (from ipython~=5.5.0->google.colab) (0.7.5)\n",
      "Requirement already satisfied: decorator in c:\\anaconda3\\lib\\site-packages (from ipython~=5.5.0->google.colab) (4.4.0)\n",
      "Requirement already satisfied: setuptools>=18.5 in c:\\anaconda3\\lib\\site-packages (from ipython~=5.5.0->google.colab) (41.0.1)\n",
      "Requirement already satisfied: nbformat in c:\\anaconda3\\lib\\site-packages (from notebook~=5.2.0->google.colab) (4.4.0)\n",
      "Requirement already satisfied: nbconvert in c:\\anaconda3\\lib\\site-packages (from notebook~=5.2.0->google.colab) (5.5.0)\n",
      "Requirement already satisfied: jupyter-core in c:\\anaconda3\\lib\\site-packages (from notebook~=5.2.0->google.colab) (4.5.0)\n",
      "Requirement already satisfied: jinja2 in c:\\anaconda3\\lib\\site-packages (from notebook~=5.2.0->google.colab) (2.10.1)\n",
      "Requirement already satisfied: ipython-genutils in c:\\anaconda3\\lib\\site-packages (from notebook~=5.2.0->google.colab) (0.2.0)\n",
      "Requirement already satisfied: pytz>=2011k in c:\\anaconda3\\lib\\site-packages (from pandas~=0.24.0->google.colab) (2019.1)\n",
      "Requirement already satisfied: numpy>=1.12.0 in c:\\anaconda3\\lib\\site-packages (from pandas~=0.24.0->google.colab) (1.16.4)\n",
      "Requirement already satisfied: python-dateutil>=2.5.0 in c:\\anaconda3\\lib\\site-packages (from pandas~=0.24.0->google.colab) (2.8.0)\n",
      "Requirement already satisfied: idna<2.9,>=2.5 in c:\\anaconda3\\lib\\site-packages (from requests~=2.21.0->google.colab) (2.8)\n",
      "Requirement already satisfied: chardet<3.1.0,>=3.0.2 in c:\\anaconda3\\lib\\site-packages (from requests~=2.21.0->google.colab) (3.0.4)\n",
      "Requirement already satisfied: certifi>=2017.4.17 in c:\\anaconda3\\lib\\site-packages (from requests~=2.21.0->google.colab) (2019.6.16)\n",
      "Requirement already satisfied: urllib3<1.25,>=1.21.1 in c:\\anaconda3\\lib\\site-packages (from requests~=2.21.0->google.colab) (1.24.2)\n",
      "Requirement already satisfied: pyasn1<0.5.0,>=0.4.6 in c:\\anaconda3\\lib\\site-packages (from pyasn1-modules>=0.2.1->google-auth~=1.4.0->google.colab) (0.4.7)\n",
      "Requirement already satisfied: pyzmq>=13 in c:\\anaconda3\\lib\\site-packages (from jupyter-client->ipykernel~=4.6.0->google.colab) (18.0.0)\n",
      "Requirement already satisfied: wcwidth in c:\\anaconda3\\lib\\site-packages (from prompt-toolkit<2.0.0,>=1.0.4->ipython~=5.5.0->google.colab) (0.1.7)\n",
      "Requirement already satisfied: jsonschema!=2.5.0,>=2.4 in c:\\anaconda3\\lib\\site-packages (from nbformat->notebook~=5.2.0->google.colab) (3.0.1)\n",
      "Requirement already satisfied: testpath in c:\\anaconda3\\lib\\site-packages (from nbconvert->notebook~=5.2.0->google.colab) (0.4.2)\n",
      "Requirement already satisfied: defusedxml in c:\\anaconda3\\lib\\site-packages (from nbconvert->notebook~=5.2.0->google.colab) (0.6.0)\n",
      "Requirement already satisfied: pandocfilters>=1.4.1 in c:\\anaconda3\\lib\\site-packages (from nbconvert->notebook~=5.2.0->google.colab) (1.4.2)\n",
      "Requirement already satisfied: bleach in c:\\anaconda3\\lib\\site-packages (from nbconvert->notebook~=5.2.0->google.colab) (3.1.0)\n",
      "Requirement already satisfied: mistune>=0.8.1 in c:\\anaconda3\\lib\\site-packages (from nbconvert->notebook~=5.2.0->google.colab) (0.8.4)\n",
      "Requirement already satisfied: entrypoints>=0.2.2 in c:\\anaconda3\\lib\\site-packages (from nbconvert->notebook~=5.2.0->google.colab) (0.3)\n",
      "Requirement already satisfied: MarkupSafe>=0.23 in c:\\anaconda3\\lib\\site-packages (from jinja2->notebook~=5.2.0->google.colab) (1.1.1)\n",
      "Requirement already satisfied: attrs>=17.4.0 in c:\\anaconda3\\lib\\site-packages (from jsonschema!=2.5.0,>=2.4->nbformat->notebook~=5.2.0->google.colab) (19.1.0)\n",
      "Requirement already satisfied: pyrsistent>=0.14.0 in c:\\anaconda3\\lib\\site-packages (from jsonschema!=2.5.0,>=2.4->nbformat->notebook~=5.2.0->google.colab) (0.14.11)\n",
      "Requirement already satisfied: webencodings in c:\\anaconda3\\lib\\site-packages (from bleach->nbconvert->notebook~=5.2.0->google.colab) (0.5.1)\n",
      "Building wheels for collected packages: google.colab, portpicker, tornado\n",
      "  Building wheel for google.colab (setup.py): started\n",
      "  Building wheel for google.colab (setup.py): finished with status 'done'\n",
      "  Stored in directory: C:\\Users\\user\\AppData\\Local\\pip\\Cache\\wheels\\38\\0d\\59\\701e300a337b2a2e07b27fe74dbfff0bc56ac58f711566ee67\n",
      "  Building wheel for portpicker (setup.py): started\n",
      "  Building wheel for portpicker (setup.py): finished with status 'done'\n",
      "  Stored in directory: C:\\Users\\user\\AppData\\Local\\pip\\Cache\\wheels\\4a\\45\\47\\1e126be9d4605e71f00d6e6fb151611f2f4cb9770b050c7d2d\n",
      "  Building wheel for tornado (setup.py): started\n",
      "  Building wheel for tornado (setup.py): finished with status 'done'\n",
      "  Stored in directory: C:\\Users\\user\\AppData\\Local\\pip\\Cache\\wheels\\72\\bf\\f4\\b68fa69596986881b397b18ff2b9af5f8181233aadcc9f76fd\n",
      "Successfully built google.colab portpicker tornado\n",
      "Installing collected packages: google-auth, prompt-toolkit, ipython, tornado, ipykernel, notebook, portpicker, requests, google.colab\n",
      "  Found existing installation: google-auth 1.6.3\n",
      "    Uninstalling google-auth-1.6.3:\n",
      "      Successfully uninstalled google-auth-1.6.3\n",
      "  Found existing installation: prompt-toolkit 2.0.9\n",
      "    Uninstalling prompt-toolkit-2.0.9:\n",
      "      Successfully uninstalled prompt-toolkit-2.0.9\n",
      "  Found existing installation: ipython 7.6.1\n",
      "    Uninstalling ipython-7.6.1:\n",
      "      Successfully uninstalled ipython-7.6.1\n",
      "  Found existing installation: tornado 6.0.3\n",
      "    Uninstalling tornado-6.0.3:\n",
      "      Successfully uninstalled tornado-6.0.3\n",
      "Note: you may need to restart the kernel to use updated packages.\n"
     ]
    },
    {
     "name": "stderr",
     "output_type": "stream",
     "text": [
      "ERROR: spyder-kernels 0.5.1 has requirement ipykernel>=4.8.2, but you'll have ipykernel 4.6.1 which is incompatible.\n",
      "ERROR: jupyter-console 6.0.0 has requirement prompt_toolkit<2.1.0,>=2.0.0, but you'll have prompt-toolkit 1.0.18 which is incompatible.\n",
      "ERROR: distributed 2.1.0 has requirement tornado>=5, but you'll have tornado 4.5.3 which is incompatible.\n",
      "ERROR: Could not install packages due to an EnvironmentError: [WinError 5] 액세스가 거부되었습니다: 'c:\\\\anaconda3\\\\lib\\\\site-packages\\\\~ornado\\\\speedups.cp37-win_amd64.pyd'\n",
      "Consider using the `--user` option or check the permissions.\n",
      "\n"
     ]
    }
   ],
   "source": [
    "pip install google.colab"
   ]
  },
  {
   "cell_type": "code",
   "execution_count": 20,
   "metadata": {
    "colab": {},
    "colab_type": "code",
    "id": "ECBpBHogyG84"
   },
   "outputs": [
    {
     "ename": "ModuleNotFoundError",
     "evalue": "No module named 'google.colab'",
     "output_type": "error",
     "traceback": [
      "\u001b[1;31m---------------------------------------------------------------------------\u001b[0m",
      "\u001b[1;31mModuleNotFoundError\u001b[0m                       Traceback (most recent call last)",
      "\u001b[1;32m<ipython-input-20-8d16ba9da060>\u001b[0m in \u001b[0;36m<module>\u001b[1;34m\u001b[0m\n\u001b[1;32m----> 1\u001b[1;33m \u001b[1;32mfrom\u001b[0m \u001b[0mgoogle\u001b[0m\u001b[1;33m.\u001b[0m\u001b[0mcolab\u001b[0m \u001b[1;32mimport\u001b[0m \u001b[0mdrive\u001b[0m\u001b[1;33m\u001b[0m\u001b[1;33m\u001b[0m\u001b[0m\n\u001b[0m\u001b[0;32m      2\u001b[0m \u001b[0mdrive\u001b[0m\u001b[1;33m.\u001b[0m\u001b[0mmount\u001b[0m\u001b[1;33m(\u001b[0m\u001b[1;34m'/cnn/drive'\u001b[0m\u001b[1;33m)\u001b[0m\u001b[1;33m\u001b[0m\u001b[1;33m\u001b[0m\u001b[0m\n",
      "\u001b[1;31mModuleNotFoundError\u001b[0m: No module named 'google.colab'"
     ]
    }
   ],
   "source": [
    "from google.colab import drive\n",
    "drive.mount('/cnn/drive')"
   ]
  },
  {
   "cell_type": "markdown",
   "metadata": {
    "colab_type": "text",
    "id": "noQferZ8l5Hc"
   },
   "source": [
    "# 이미지 불러오기 및 resize"
   ]
  },
  {
   "cell_type": "code",
   "execution_count": 15,
   "metadata": {
    "colab": {},
    "colab_type": "code",
    "id": "BfA8Yz6Zgf9q"
   },
   "outputs": [],
   "source": [
    "import glob\n",
    "\n",
    "from PIL import Image\n",
    "import numpy as np"
   ]
  },
  {
   "cell_type": "code",
   "execution_count": 35,
   "metadata": {
    "colab": {},
    "colab_type": "code",
    "id": "Oh5wGgZLgjZL"
   },
   "outputs": [],
   "source": [
    "top_images_jpg = glob.glob('상의/' + '*.jpg')\n",
    "top_images_png = glob.glob('상의/' + '*.png')\n",
    "top_images_jpeg = glob.glob('상의/' + '*.jpeg')\n",
    "\n",
    "pants_images_jpg = glob.glob('하의/' + '*.jpg')\n",
    "pants_images_png = glob.glob('하의/' + '*.png')\n",
    "pants_images_jpeg = glob.glob('하의/' + '*.jpeg')"
   ]
  },
  {
   "cell_type": "code",
   "execution_count": 36,
   "metadata": {
    "colab": {
     "base_uri": "https://localhost:8080/",
     "height": 92
    },
    "colab_type": "code",
    "executionInfo": {
     "elapsed": 826,
     "status": "ok",
     "timestamp": 1571379123049,
     "user": {
      "displayName": "김봉수",
      "photoUrl": "",
      "userId": "13387137173273535318"
     },
     "user_tz": -540
    },
    "id": "B2VsI5hhklPv",
    "outputId": "33b1ce4b-5754-42de-cb38-87915478e047"
   },
   "outputs": [
    {
     "name": "stdout",
     "output_type": "stream",
     "text": [
      "['상의\\\\1.61nC7HXQUTL._UY606_.jpg', '상의\\\\1.blue-martha-cold-shoulder-top-in1911mtotopblu-162-front.jpg', '상의\\\\100.1228wbed3149i7314760_600_2.jpg', '상의\\\\101.product_100147_egret_1_400x.jpg', '상의\\\\102.Bow-Back-Top-Sweet-Pea_08010584_850.jpg']\n",
      "==================================================\n",
      "[]\n"
     ]
    }
   ],
   "source": [
    "print(top_images_jpg[:5])\n",
    "print('='*50)\n",
    "print(pants_images_jpg[0:5])"
   ]
  },
  {
   "cell_type": "code",
   "execution_count": 37,
   "metadata": {
    "colab": {},
    "colab_type": "code",
    "id": "T2Uvr-Umtp-2"
   },
   "outputs": [],
   "source": [
    "image_width = 64\n",
    "image_height = 64"
   ]
  },
  {
   "cell_type": "code",
   "execution_count": 38,
   "metadata": {
    "colab": {
     "base_uri": "https://localhost:8080/",
     "height": 74
    },
    "colab_type": "code",
    "executionInfo": {
     "elapsed": 9552,
     "status": "ok",
     "timestamp": 1571380150800,
     "user": {
      "displayName": "김봉수",
      "photoUrl": "",
      "userId": "13387137173273535318"
     },
     "user_tz": -540
    },
    "id": "cQtjBlK5iMRD",
    "outputId": "70c7b3bf-331b-420a-e3b5-d03834802c61"
   },
   "outputs": [
    {
     "ename": "OSError",
     "evalue": "cannot identify image file '상의\\\\102.G24936_SBFit_longsleeve_DESK.jpg'",
     "output_type": "error",
     "traceback": [
      "\u001b[1;31m---------------------------------------------------------------------------\u001b[0m",
      "\u001b[1;31mOSError\u001b[0m                                   Traceback (most recent call last)",
      "\u001b[1;32m<ipython-input-38-aeeb4424dedf>\u001b[0m in \u001b[0;36m<module>\u001b[1;34m\u001b[0m\n\u001b[0;32m      7\u001b[0m   \u001b[1;32mif\u001b[0m \u001b[0midx\u001b[0m \u001b[1;33m<\u001b[0m \u001b[1;36m3\u001b[0m\u001b[1;33m:\u001b[0m\u001b[1;33m\u001b[0m\u001b[1;33m\u001b[0m\u001b[0m\n\u001b[0;32m      8\u001b[0m     \u001b[1;32mfor\u001b[0m \u001b[0mi\u001b[0m\u001b[1;33m,\u001b[0m \u001b[0mf\u001b[0m \u001b[1;32min\u001b[0m \u001b[0menumerate\u001b[0m\u001b[1;33m(\u001b[0m\u001b[0mi\u001b[0m\u001b[1;33m)\u001b[0m\u001b[1;33m:\u001b[0m\u001b[1;33m\u001b[0m\u001b[1;33m\u001b[0m\u001b[0m\n\u001b[1;32m----> 9\u001b[1;33m       \u001b[0mimg\u001b[0m \u001b[1;33m=\u001b[0m \u001b[0mImage\u001b[0m\u001b[1;33m.\u001b[0m\u001b[0mopen\u001b[0m\u001b[1;33m(\u001b[0m\u001b[0mf\u001b[0m\u001b[1;33m)\u001b[0m\u001b[1;33m\u001b[0m\u001b[1;33m\u001b[0m\u001b[0m\n\u001b[0m\u001b[0;32m     10\u001b[0m       \u001b[0mimg\u001b[0m \u001b[1;33m=\u001b[0m \u001b[0mimg\u001b[0m\u001b[1;33m.\u001b[0m\u001b[0mconvert\u001b[0m\u001b[1;33m(\u001b[0m\u001b[1;34m\"RGB\"\u001b[0m\u001b[1;33m)\u001b[0m\u001b[1;33m\u001b[0m\u001b[1;33m\u001b[0m\u001b[0m\n\u001b[0;32m     11\u001b[0m       \u001b[0mimg\u001b[0m \u001b[1;33m=\u001b[0m \u001b[0mimg\u001b[0m\u001b[1;33m.\u001b[0m\u001b[0mresize\u001b[0m\u001b[1;33m(\u001b[0m\u001b[1;33m(\u001b[0m\u001b[0mimage_width\u001b[0m\u001b[1;33m,\u001b[0m \u001b[0mimage_height\u001b[0m\u001b[1;33m)\u001b[0m\u001b[1;33m)\u001b[0m\u001b[1;33m\u001b[0m\u001b[1;33m\u001b[0m\u001b[0m\n",
      "\u001b[1;32mC:\\Anaconda3\\lib\\site-packages\\PIL\\Image.py\u001b[0m in \u001b[0;36mopen\u001b[1;34m(fp, mode)\u001b[0m\n\u001b[0;32m   2820\u001b[0m     \u001b[1;32mfor\u001b[0m \u001b[0mmessage\u001b[0m \u001b[1;32min\u001b[0m \u001b[0maccept_warnings\u001b[0m\u001b[1;33m:\u001b[0m\u001b[1;33m\u001b[0m\u001b[1;33m\u001b[0m\u001b[0m\n\u001b[0;32m   2821\u001b[0m         \u001b[0mwarnings\u001b[0m\u001b[1;33m.\u001b[0m\u001b[0mwarn\u001b[0m\u001b[1;33m(\u001b[0m\u001b[0mmessage\u001b[0m\u001b[1;33m)\u001b[0m\u001b[1;33m\u001b[0m\u001b[1;33m\u001b[0m\u001b[0m\n\u001b[1;32m-> 2822\u001b[1;33m     \u001b[1;32mraise\u001b[0m \u001b[0mIOError\u001b[0m\u001b[1;33m(\u001b[0m\u001b[1;34m\"cannot identify image file %r\"\u001b[0m \u001b[1;33m%\u001b[0m \u001b[1;33m(\u001b[0m\u001b[0mfilename\u001b[0m \u001b[1;32mif\u001b[0m \u001b[0mfilename\u001b[0m \u001b[1;32melse\u001b[0m \u001b[0mfp\u001b[0m\u001b[1;33m)\u001b[0m\u001b[1;33m)\u001b[0m\u001b[1;33m\u001b[0m\u001b[1;33m\u001b[0m\u001b[0m\n\u001b[0m\u001b[0;32m   2823\u001b[0m \u001b[1;33m\u001b[0m\u001b[0m\n\u001b[0;32m   2824\u001b[0m \u001b[1;33m\u001b[0m\u001b[0m\n",
      "\u001b[1;31mOSError\u001b[0m: cannot identify image file '상의\\\\102.G24936_SBFit_longsleeve_DESK.jpg'"
     ]
    }
   ],
   "source": [
    "X = []\n",
    "Y = []\n",
    "\n",
    "a = [top_images_jpg, top_images_png, top_images_jpeg, pants_images_jpg, pants_images_png, pants_images_jpeg]\n",
    "\n",
    "for idx, i in enumerate(a):\n",
    "  if idx < 3:\n",
    "    for i, f in enumerate(i):\n",
    "      img = Image.open(f)\n",
    "      img = img.convert(\"RGB\")\n",
    "      img = img.resize((image_width, image_height))\n",
    "      data = np.asarray(img)\n",
    "      X.append(data)\n",
    "      Y.append(1)\n",
    "  else:\n",
    "    for i, f in enumerate(i):\n",
    "      img = Image.open(f)\n",
    "      img = img.convert(\"RGB\")\n",
    "      img = img.resize((image_width, image_height))\n",
    "      data = np.asarray(img)\n",
    "      X.append(data)\n",
    "      Y.append(0)"
   ]
  },
  {
   "cell_type": "code",
   "execution_count": 0,
   "metadata": {
    "colab": {
     "base_uri": "https://localhost:8080/",
     "height": 1000
    },
    "colab_type": "code",
    "executionInfo": {
     "elapsed": 498,
     "status": "ok",
     "timestamp": 1571380152068,
     "user": {
      "displayName": "김봉수",
      "photoUrl": "",
      "userId": "13387137173273535318"
     },
     "user_tz": -540
    },
    "id": "6Wbo1bcLkJYN",
    "outputId": "393b596b-6e1e-4fea-b488-dd14660bb0ca"
   },
   "outputs": [
    {
     "data": {
      "text/plain": [
       "[array([[[186, 191, 195],\n",
       "         [190, 193, 198],\n",
       "         [192, 195, 200],\n",
       "         ...,\n",
       "         [192, 193, 195],\n",
       "         [192, 196, 197],\n",
       "         [188, 192, 195]],\n",
       " \n",
       "        [[191, 196, 200],\n",
       "         [186, 189, 194],\n",
       "         [180, 188, 191],\n",
       "         ...,\n",
       "         [194, 195, 197],\n",
       "         [190, 191, 193],\n",
       "         [192, 193, 195]],\n",
       " \n",
       "        [[193, 198, 202],\n",
       "         [190, 195, 199],\n",
       "         [188, 193, 197],\n",
       "         ...,\n",
       "         [193, 194, 196],\n",
       "         [188, 189, 193],\n",
       "         [188, 192, 195]],\n",
       " \n",
       "        ...,\n",
       " \n",
       "        [[175, 178, 183],\n",
       "         [184, 188, 191],\n",
       "         [179, 184, 188],\n",
       "         ...,\n",
       "         [190, 191, 193],\n",
       "         [188, 189, 191],\n",
       "         [190, 191, 193]],\n",
       " \n",
       "        [[179, 183, 186],\n",
       "         [189, 193, 196],\n",
       "         [185, 189, 192],\n",
       "         ...,\n",
       "         [188, 189, 191],\n",
       "         [195, 196, 198],\n",
       "         [181, 182, 184]],\n",
       " \n",
       "        [[180, 185, 189],\n",
       "         [184, 188, 191],\n",
       "         [176, 181, 184],\n",
       "         ...,\n",
       "         [189, 190, 192],\n",
       "         [183, 184, 186],\n",
       "         [186, 187, 189]]], dtype=uint8), array([[[251, 220, 192],\n",
       "         [250, 219, 191],\n",
       "         [249, 218, 190],\n",
       "         ...,\n",
       "         [203, 159, 130],\n",
       "         [204, 159, 130],\n",
       "         [203, 158, 129]],\n",
       " \n",
       "        [[251, 220, 192],\n",
       "         [250, 219, 191],\n",
       "         [249, 218, 190],\n",
       "         ...,\n",
       "         [204, 160, 131],\n",
       "         [204, 159, 130],\n",
       "         [202, 159, 127]],\n",
       " \n",
       "        [[251, 220, 192],\n",
       "         [249, 218, 190],\n",
       "         [247, 216, 188],\n",
       "         ...,\n",
       "         [204, 160, 131],\n",
       "         [204, 160, 131],\n",
       "         [202, 157, 128]],\n",
       " \n",
       "        ...,\n",
       " \n",
       "        [[246, 215, 187],\n",
       "         [248, 214, 187],\n",
       "         [248, 214, 187],\n",
       "         ...,\n",
       "         [197, 151, 118],\n",
       "         [196, 150, 117],\n",
       "         [195, 149, 116]],\n",
       " \n",
       "        [[249, 215, 188],\n",
       "         [247, 213, 188],\n",
       "         [247, 213, 186],\n",
       "         ...,\n",
       "         [196, 149, 119],\n",
       "         [195, 148, 118],\n",
       "         [194, 147, 117]],\n",
       " \n",
       "        [[246, 212, 185],\n",
       "         [247, 213, 188],\n",
       "         [246, 212, 185],\n",
       "         ...,\n",
       "         [196, 150, 117],\n",
       "         [195, 149, 116],\n",
       "         [194, 148, 115]]], dtype=uint8), array([[[255, 255, 255],\n",
       "         [255, 255, 255],\n",
       "         [255, 255, 255],\n",
       "         ...,\n",
       "         [255, 255, 255],\n",
       "         [255, 255, 255],\n",
       "         [255, 255, 255]],\n",
       " \n",
       "        [[255, 255, 255],\n",
       "         [255, 255, 255],\n",
       "         [255, 255, 255],\n",
       "         ...,\n",
       "         [255, 255, 255],\n",
       "         [255, 255, 255],\n",
       "         [255, 255, 255]],\n",
       " \n",
       "        [[255, 255, 255],\n",
       "         [255, 255, 255],\n",
       "         [255, 255, 255],\n",
       "         ...,\n",
       "         [255, 255, 255],\n",
       "         [255, 255, 255],\n",
       "         [255, 255, 255]],\n",
       " \n",
       "        ...,\n",
       " \n",
       "        [[255, 255, 255],\n",
       "         [255, 255, 255],\n",
       "         [255, 255, 255],\n",
       "         ...,\n",
       "         [255, 255, 255],\n",
       "         [255, 255, 255],\n",
       "         [255, 255, 255]],\n",
       " \n",
       "        [[255, 255, 255],\n",
       "         [255, 255, 255],\n",
       "         [255, 255, 255],\n",
       "         ...,\n",
       "         [255, 255, 255],\n",
       "         [255, 255, 255],\n",
       "         [255, 255, 255]],\n",
       " \n",
       "        [[255, 255, 255],\n",
       "         [255, 255, 255],\n",
       "         [255, 255, 255],\n",
       "         ...,\n",
       "         [255, 255, 255],\n",
       "         [255, 255, 255],\n",
       "         [255, 255, 255]]], dtype=uint8), array([[[255, 255, 255],\n",
       "         [255, 255, 255],\n",
       "         [255, 255, 255],\n",
       "         ...,\n",
       "         [255, 255, 255],\n",
       "         [255, 255, 255],\n",
       "         [255, 255, 255]],\n",
       " \n",
       "        [[255, 255, 255],\n",
       "         [254, 254, 254],\n",
       "         [254, 254, 254],\n",
       "         ...,\n",
       "         [255, 255, 255],\n",
       "         [255, 255, 255],\n",
       "         [255, 255, 255]],\n",
       " \n",
       "        [[254, 254, 254],\n",
       "         [254, 254, 254],\n",
       "         [254, 254, 254],\n",
       "         ...,\n",
       "         [255, 255, 255],\n",
       "         [255, 255, 255],\n",
       "         [255, 255, 255]],\n",
       " \n",
       "        ...,\n",
       " \n",
       "        [[255, 255, 255],\n",
       "         [254, 254, 254],\n",
       "         [255, 255, 255],\n",
       "         ...,\n",
       "         [253, 253, 253],\n",
       "         [254, 254, 254],\n",
       "         [254, 254, 254]],\n",
       " \n",
       "        [[255, 255, 255],\n",
       "         [255, 255, 255],\n",
       "         [255, 255, 255],\n",
       "         ...,\n",
       "         [255, 255, 255],\n",
       "         [255, 255, 255],\n",
       "         [255, 255, 255]],\n",
       " \n",
       "        [[254, 254, 254],\n",
       "         [255, 255, 255],\n",
       "         [255, 255, 255],\n",
       "         ...,\n",
       "         [254, 254, 254],\n",
       "         [254, 254, 254],\n",
       "         [254, 254, 254]]], dtype=uint8), array([[[110, 158, 206],\n",
       "         [110, 158, 206],\n",
       "         [110, 158, 206],\n",
       "         ...,\n",
       "         [110, 158, 206],\n",
       "         [110, 158, 206],\n",
       "         [110, 158, 206]],\n",
       " \n",
       "        [[110, 158, 206],\n",
       "         [110, 158, 206],\n",
       "         [110, 158, 206],\n",
       "         ...,\n",
       "         [110, 158, 206],\n",
       "         [110, 158, 206],\n",
       "         [110, 158, 206]],\n",
       " \n",
       "        [[110, 158, 206],\n",
       "         [110, 158, 206],\n",
       "         [110, 158, 206],\n",
       "         ...,\n",
       "         [110, 158, 206],\n",
       "         [110, 158, 206],\n",
       "         [110, 158, 206]],\n",
       " \n",
       "        ...,\n",
       " \n",
       "        [[110, 158, 206],\n",
       "         [110, 158, 206],\n",
       "         [110, 158, 206],\n",
       "         ...,\n",
       "         [110, 158, 206],\n",
       "         [110, 158, 206],\n",
       "         [110, 158, 206]],\n",
       " \n",
       "        [[110, 158, 206],\n",
       "         [110, 158, 206],\n",
       "         [110, 158, 206],\n",
       "         ...,\n",
       "         [110, 158, 206],\n",
       "         [110, 158, 206],\n",
       "         [110, 158, 206]],\n",
       " \n",
       "        [[110, 158, 206],\n",
       "         [110, 158, 206],\n",
       "         [110, 158, 206],\n",
       "         ...,\n",
       "         [110, 158, 206],\n",
       "         [110, 158, 206],\n",
       "         [110, 158, 206]]], dtype=uint8)]"
      ]
     },
     "execution_count": 20,
     "metadata": {
      "tags": []
     },
     "output_type": "execute_result"
    }
   ],
   "source": [
    "X[0:5]"
   ]
  },
  {
   "cell_type": "code",
   "execution_count": 0,
   "metadata": {
    "colab": {
     "base_uri": "https://localhost:8080/",
     "height": 35
    },
    "colab_type": "code",
    "executionInfo": {
     "elapsed": 503,
     "status": "ok",
     "timestamp": 1571380153205,
     "user": {
      "displayName": "김봉수",
      "photoUrl": "",
      "userId": "13387137173273535318"
     },
     "user_tz": -540
    },
    "id": "0Eep_KtakKFr",
    "outputId": "26cde680-5d8e-4d48-8615-c10800830a8c"
   },
   "outputs": [
    {
     "data": {
      "text/plain": [
       "[1, 1, 1, 1, 1]"
      ]
     },
     "execution_count": 21,
     "metadata": {
      "tags": []
     },
     "output_type": "execute_result"
    }
   ],
   "source": [
    "Y[0:5]"
   ]
  },
  {
   "cell_type": "markdown",
   "metadata": {
    "colab_type": "text",
    "id": "ZkTc_HO360lv"
   },
   "source": [
    "# 데이터 분리 및 저장"
   ]
  },
  {
   "cell_type": "code",
   "execution_count": 0,
   "metadata": {
    "colab": {
     "base_uri": "https://localhost:8080/",
     "height": 35
    },
    "colab_type": "code",
    "executionInfo": {
     "elapsed": 2536,
     "status": "ok",
     "timestamp": 1571379345751,
     "user": {
      "displayName": "김봉수",
      "photoUrl": "",
      "userId": "13387137173273535318"
     },
     "user_tz": -540
    },
    "id": "MtIKxYxXlXr1",
    "outputId": "8ade2872-9803-445e-fe80-cc8c5ee48e2e"
   },
   "outputs": [
    {
     "name": "stderr",
     "output_type": "stream",
     "text": [
      "Using TensorFlow backend.\n"
     ]
    }
   ],
   "source": [
    "import keras\n",
    "import tensorflow as tf\n",
    "import numpy as np\n",
    "import matplotlib.pyplot as plt\n",
    "import pandas as pd"
   ]
  },
  {
   "cell_type": "code",
   "execution_count": 0,
   "metadata": {
    "colab": {
     "base_uri": "https://localhost:8080/",
     "height": 287
    },
    "colab_type": "code",
    "executionInfo": {
     "elapsed": 1286,
     "status": "ok",
     "timestamp": 1571380159433,
     "user": {
      "displayName": "김봉수",
      "photoUrl": "",
      "userId": "13387137173273535318"
     },
     "user_tz": -540
    },
    "id": "txTIZPbW65Rw",
    "outputId": "8cb994fc-7b51-436f-9a42-9da6a33510c0"
   },
   "outputs": [
    {
     "data": {
      "text/plain": [
       "<matplotlib.image.AxesImage at 0x7f3a180a7da0>"
      ]
     },
     "execution_count": 22,
     "metadata": {
      "tags": []
     },
     "output_type": "execute_result"
    },
    {
     "data": {
      "image/png": "[encoded data removed]",
      "text/plain": [
       "<Figure size 432x288 with 1 Axes>"
      ]
     },
     "metadata": {
      "tags": []
     },
     "output_type": "display_data"
    }
   ],
   "source": [
    "plt.imshow(X[0])"
   ]
  },
  {
   "cell_type": "code",
   "execution_count": 0,
   "metadata": {
    "colab": {
     "base_uri": "https://localhost:8080/",
     "height": 35
    },
    "colab_type": "code",
    "executionInfo": {
     "elapsed": 820,
     "status": "ok",
     "timestamp": 1571380162159,
     "user": {
      "displayName": "김봉수",
      "photoUrl": "",
      "userId": "13387137173273535318"
     },
     "user_tz": -540
    },
    "id": "eV_c2bMS9UzD",
    "outputId": "217e263d-50e6-4528-fa5b-45744d622104"
   },
   "outputs": [
    {
     "name": "stdout",
     "output_type": "stream",
     "text": [
      "(526, 64, 64, 3) (526,)\n"
     ]
    }
   ],
   "source": [
    "X = np.array(X)\n",
    "Y = np.array(Y)\n",
    "\n",
    "print(X.shape, Y.shape)"
   ]
  },
  {
   "cell_type": "code",
   "execution_count": 0,
   "metadata": {
    "colab": {},
    "colab_type": "code",
    "id": "WWtP_2318DV3"
   },
   "outputs": [],
   "source": [
    "from sklearn.model_selection import train_test_split\n",
    "\n",
    "X_train, X_test, Y_train, Y_test = train_test_split(X, Y)\n",
    "xy = (X_train, X_test, Y_train, Y_test)"
   ]
  },
  {
   "cell_type": "code",
   "execution_count": 0,
   "metadata": {
    "colab": {},
    "colab_type": "code",
    "id": "-i1qpc329tuO"
   },
   "outputs": [],
   "source": [
    "np.save('clothes.npy', xy)"
   ]
  },
  {
   "cell_type": "markdown",
   "metadata": {
    "colab_type": "text",
    "id": "HlvjO-YvpsAZ"
   },
   "source": [
    "# 모델링"
   ]
  },
  {
   "cell_type": "code",
   "execution_count": 0,
   "metadata": {
    "colab": {
     "base_uri": "https://localhost:8080/",
     "height": 35
    },
    "colab_type": "code",
    "executionInfo": {
     "elapsed": 2040,
     "status": "ok",
     "timestamp": 1571384205988,
     "user": {
      "displayName": "김봉수",
      "photoUrl": "",
      "userId": "13387137173273535318"
     },
     "user_tz": -540
    },
    "id": "UuMMi3Rxh4HT",
    "outputId": "92a3ea79-fde1-44ad-953c-f88f26cff0b4"
   },
   "outputs": [
    {
     "name": "stderr",
     "output_type": "stream",
     "text": [
      "Using TensorFlow backend.\n"
     ]
    }
   ],
   "source": [
    "## 사용할 모델 라이브러리 import\n",
    "import sys, os\n",
    "from keras.models import Sequential\n",
    "from keras.layers import Convolution2D\n",
    "from keras.layers import MaxPooling2D\n",
    "from keras.layers import Activation\n",
    "from keras.layers import Dropout\n",
    "from keras.layers import Flatten\n",
    "from keras.layers import Dense\n",
    "from keras.utils import np_utils\n",
    "import numpy as np"
   ]
  },
  {
   "cell_type": "code",
   "execution_count": 0,
   "metadata": {
    "colab": {},
    "colab_type": "code",
    "id": "Kl4rY-5FpwbC"
   },
   "outputs": [],
   "source": [
    "# root_dir = \"\"\n",
    "categories = [\"top\", \"pants\"]\n",
    "nb_classes = len(categories)\n",
    "image_size = 64"
   ]
  },
  {
   "cell_type": "code",
   "execution_count": 0,
   "metadata": {
    "colab": {},
    "colab_type": "code",
    "id": "i9PLMr6uqXUI"
   },
   "outputs": [],
   "source": [
    "# 데이터 불러오기\n",
    "def load_dataset():\n",
    "  x_train, x_test, y_train, y_test = np.load(\"clothes.npy\", allow_pickle=True)\n",
    "  x_train = x_train.astype(\"float\") / 256\n",
    "  x_test = x_test.astype(\"float\") / 256\n",
    "  y_train = np_utils.to_categorical(y_train, nb_classes)\n",
    "  y_test = np_utils.to_categorical(y_test, nb_classes)\n",
    "  return x_train, x_test, y_train, y_test"
   ]
  },
  {
   "cell_type": "code",
   "execution_count": 0,
   "metadata": {
    "colab": {},
    "colab_type": "code",
    "id": "iabOTRQxxZAr"
   },
   "outputs": [],
   "source": [
    "?np.load"
   ]
  },
  {
   "cell_type": "code",
   "execution_count": 0,
   "metadata": {
    "colab": {},
    "colab_type": "code",
    "id": "zt2oUKsMqhCq"
   },
   "outputs": [],
   "source": [
    "# 모델 구성 \n",
    "def build_model(in_shape):\n",
    "  model = Sequential()\n",
    "  model.add(Convolution2D(32, 3, 3, border_mode='same',\n",
    "  input_shape=in_shape))\n",
    "  model.add(Activation('Relu'))\n",
    "  model.add(MaxPooling2D(pool_size=(2,2)))\n",
    "#   model.add(Dropout(0.25)) # dropout\n",
    "  model.add(Convolution2D(64, 3, 3, border_mode='same'))\n",
    "  model.add(Activation('sigmoid'))\n",
    "  model.add(Convolution2D(64, 3, 3))\n",
    "  model.add(MaxPooling2D(pool_size=(2,2)))\n",
    "  # dropout\n",
    "  model.add(Flatten())\n",
    "  model.add(Dense(512))\n",
    "  model.add(Activation('sigmoid'))\n",
    "  # dropout\n",
    "  model.add(Dense(nb_classes))\n",
    "  model.add(Activation('softmax'))\n",
    "  model.compile(loss='crossentropy',\n",
    "  optimizer='Adam',\n",
    "  metrics=['accuracy'])\n",
    "  return model"
   ]
  },
  {
   "cell_type": "code",
   "execution_count": 0,
   "metadata": {
    "colab": {},
    "colab_type": "code",
    "id": "N7Ne-PKOtQBC"
   },
   "outputs": [],
   "source": [
    "?Convolution2D"
   ]
  },
  {
   "cell_type": "code",
   "execution_count": 0,
   "metadata": {
    "colab": {},
    "colab_type": "code",
    "id": "lqiIqpfUupN0"
   },
   "outputs": [],
   "source": [
    "?MaxPooling2D"
   ]
  },
  {
   "cell_type": "code",
   "execution_count": 0,
   "metadata": {
    "colab": {},
    "colab_type": "code",
    "id": "Iqh3myfdvOaE"
   },
   "outputs": [],
   "source": [
    "# 모델 학습\n",
    "def model_train(x, y):\n",
    "  model = build_model(x.shape[1:])\n",
    "  model.fit(x, y, batch_size=32, epochs=20)\n",
    "  return model"
   ]
  },
  {
   "cell_type": "code",
   "execution_count": 0,
   "metadata": {
    "colab": {},
    "colab_type": "code",
    "id": "dqX7NzQdw53F"
   },
   "outputs": [],
   "source": [
    "# 모델 평가하기 \n",
    "def model_eval(model, x, y):\n",
    "  score = model.evaluate(x, y)\n",
    "  print('loss=', score[0])\n",
    "  print('accuracy=', score[1])"
   ]
  },
  {
   "cell_type": "code",
   "execution_count": 0,
   "metadata": {
    "colab": {
     "base_uri": "https://localhost:8080/",
     "height": 928
    },
    "colab_type": "code",
    "executionInfo": {
     "elapsed": 132037,
     "status": "ok",
     "timestamp": 1571384772072,
     "user": {
      "displayName": "김봉수",
      "photoUrl": "",
      "userId": "13387137173273535318"
     },
     "user_tz": -540
    },
    "id": "dL5WSvNtw-a8",
    "outputId": "430340ea-15b7-486d-8663-721c62f31291"
   },
   "outputs": [
    {
     "name": "stderr",
     "output_type": "stream",
     "text": [
      "/usr/local/lib/python3.6/dist-packages/ipykernel_launcher.py:4: UserWarning: Update your `Conv2D` call to the Keras 2 API: `Conv2D(32, (3, 3), input_shape=(64, 64, 3..., padding=\"same\")`\n",
      "  after removing the cwd from sys.path.\n",
      "/usr/local/lib/python3.6/dist-packages/ipykernel_launcher.py:8: UserWarning: Update your `Conv2D` call to the Keras 2 API: `Conv2D(64, (3, 3), padding=\"same\")`\n",
      "  \n",
      "/usr/local/lib/python3.6/dist-packages/ipykernel_launcher.py:10: UserWarning: Update your `Conv2D` call to the Keras 2 API: `Conv2D(64, (3, 3))`\n",
      "  # Remove the CWD from sys.path while we load stuff.\n"
     ]
    },
    {
     "name": "stdout",
     "output_type": "stream",
     "text": [
      "Epoch 1/20\n",
      "394/394 [==============================] - 7s 18ms/step - loss: 8.5023 - acc: 0.4340\n",
      "Epoch 2/20\n",
      "394/394 [==============================] - 6s 16ms/step - loss: 9.0730 - acc: 0.4340\n",
      "Epoch 3/20\n",
      "394/394 [==============================] - 6s 16ms/step - loss: 9.0730 - acc: 0.4340\n",
      "Epoch 4/20\n",
      "394/394 [==============================] - 7s 17ms/step - loss: 9.0730 - acc: 0.4340\n",
      "Epoch 5/20\n",
      "394/394 [==============================] - 6s 16ms/step - loss: 9.0730 - acc: 0.4340\n",
      "Epoch 6/20\n",
      "394/394 [==============================] - 6s 16ms/step - loss: 9.0730 - acc: 0.4340\n",
      "Epoch 7/20\n",
      "394/394 [==============================] - 6s 16ms/step - loss: 9.0730 - acc: 0.4340\n",
      "Epoch 8/20\n",
      "394/394 [==============================] - 6s 16ms/step - loss: 9.0730 - acc: 0.4340\n",
      "Epoch 9/20\n",
      "394/394 [==============================] - 7s 17ms/step - loss: 9.0730 - acc: 0.4340\n",
      "Epoch 10/20\n",
      "394/394 [==============================] - 6s 16ms/step - loss: 9.0730 - acc: 0.4340\n",
      "Epoch 11/20\n",
      "394/394 [==============================] - 7s 17ms/step - loss: 9.0730 - acc: 0.4340\n",
      "Epoch 12/20\n",
      "394/394 [==============================] - 7s 17ms/step - loss: 9.0730 - acc: 0.4340\n",
      "Epoch 13/20\n",
      "394/394 [==============================] - 7s 17ms/step - loss: 9.0730 - acc: 0.4340\n",
      "Epoch 14/20\n",
      "394/394 [==============================] - 7s 17ms/step - loss: 9.0730 - acc: 0.4340\n",
      "Epoch 15/20\n",
      "394/394 [==============================] - 7s 17ms/step - loss: 9.0730 - acc: 0.4340\n",
      "Epoch 16/20\n",
      "394/394 [==============================] - 6s 16ms/step - loss: 9.0730 - acc: 0.4340\n",
      "Epoch 17/20\n",
      "394/394 [==============================] - 7s 17ms/step - loss: 9.0730 - acc: 0.4340\n",
      "Epoch 18/20\n",
      "394/394 [==============================] - 7s 17ms/step - loss: 9.0730 - acc: 0.4340\n",
      "Epoch 19/20\n",
      "394/394 [==============================] - 6s 16ms/step - loss: 9.0730 - acc: 0.4340\n",
      "Epoch 20/20\n",
      "394/394 [==============================] - 6s 16ms/step - loss: 9.0730 - acc: 0.4340\n",
      "132/132 [==============================] - 1s 5ms/step\n",
      "loss= 8.379443255337803\n",
      "accuracy= 0.4772727272727273\n"
     ]
    }
   ],
   "source": [
    "x_train, x_test, y_train, y_test = load_dataset()\n",
    "model = model_train(x_train, y_train)\n",
    "model_eval(model, x_test, y_test)"
   ]
  },
  {
   "cell_type": "code",
   "execution_count": 0,
   "metadata": {
    "colab": {},
    "colab_type": "code",
    "id": "Sl8JejG601Vr"
   },
   "outputs": [],
   "source": [
    "# 모델 저장\n",
    "model.save(\"clothes_model_01.h5\")"
   ]
  },
  {
   "cell_type": "markdown",
   "metadata": {
    "colab_type": "text",
    "id": "ItG5kZZp0tze"
   },
   "source": [
    "# 예측"
   ]
  },
  {
   "cell_type": "code",
   "execution_count": 0,
   "metadata": {
    "colab": {},
    "colab_type": "code",
    "id": "p-xJoqePxAw8"
   },
   "outputs": [],
   "source": [
    "from keras.models import load_model\n",
    "from PIL import Image"
   ]
  },
  {
   "cell_type": "code",
   "execution_count": 0,
   "metadata": {
    "colab": {},
    "colab_type": "code",
    "id": "VU1TXtmT1gVn"
   },
   "outputs": [],
   "source": [
    "root_dir = \"예측/\"\n",
    "image_files = [root_dir+\"예측1.jpg\", root_dir+\"예측2.jpg\"]"
   ]
  },
  {
   "cell_type": "code",
   "execution_count": 0,
   "metadata": {
    "colab": {},
    "colab_type": "code",
    "id": "2xkr8n2K12P3"
   },
   "outputs": [],
   "source": [
    "image_size = 64\n",
    "nb_classes = len(image_files)\n",
    "categories = [\"top\", \"pants\"]"
   ]
  },
  {
   "cell_type": "code",
   "execution_count": 0,
   "metadata": {
    "colab": {
     "base_uri": "https://localhost:8080/",
     "height": 1000
    },
    "colab_type": "code",
    "executionInfo": {
     "elapsed": 524,
     "status": "ok",
     "timestamp": 1571385028907,
     "user": {
      "displayName": "김봉수",
      "photoUrl": "",
      "userId": "13387137173273535318"
     },
     "user_tz": -540
    },
    "id": "20BnTJQ718w1",
    "outputId": "2d50120c-9fb0-4976-92ff-3eee2fe4c7df",
    "scrolled": true
   },
   "outputs": [
    {
     "name": "stdout",
     "output_type": "stream",
     "text": [
      "예측/예측1.jpg\n",
      "예측/예측2.jpg\n",
      "[array([[[0.99609375, 0.99609375, 0.98046875],\n",
      "        [0.99609375, 0.99609375, 0.98828125],\n",
      "        [0.99609375, 0.99609375, 0.98828125],\n",
      "        ...,\n",
      "        [0.62890625, 0.6015625 , 0.5625    ],\n",
      "        [0.78515625, 0.7578125 , 0.71875   ],\n",
      "        [0.82421875, 0.796875  , 0.7578125 ]],\n",
      "\n",
      "       [[0.99609375, 0.99609375, 0.98828125],\n",
      "        [0.99609375, 0.99609375, 0.98046875],\n",
      "        [0.99609375, 0.99609375, 0.98046875],\n",
      "        ...,\n",
      "        [0.73828125, 0.7109375 , 0.671875  ],\n",
      "        [0.74609375, 0.71875   , 0.6796875 ],\n",
      "        [0.671875  , 0.64453125, 0.60546875]],\n",
      "\n",
      "       [[0.99609375, 0.99609375, 0.98828125],\n",
      "        [0.99609375, 0.99609375, 0.98046875],\n",
      "        [0.99609375, 0.99609375, 0.9765625 ],\n",
      "        ...,\n",
      "        [0.63671875, 0.609375  , 0.5703125 ],\n",
      "        [0.7265625 , 0.69921875, 0.66015625],\n",
      "        [0.73828125, 0.7109375 , 0.671875  ]],\n",
      "\n",
      "       ...,\n",
      "\n",
      "       [[0.9296875 , 0.9375    , 0.89453125],\n",
      "        [0.9921875 , 0.9921875 , 0.984375  ],\n",
      "        [0.99609375, 0.99609375, 0.99609375],\n",
      "        ...,\n",
      "        [0.65234375, 0.625     , 0.5625    ],\n",
      "        [0.74609375, 0.71484375, 0.6640625 ],\n",
      "        [0.86328125, 0.83203125, 0.7890625 ]],\n",
      "\n",
      "       [[0.94921875, 0.95703125, 0.9140625 ],\n",
      "        [0.99609375, 0.99609375, 0.98828125],\n",
      "        [0.99609375, 0.99609375, 0.99609375],\n",
      "        ...,\n",
      "        [0.76953125, 0.7421875 , 0.6796875 ],\n",
      "        [0.78125   , 0.75      , 0.69921875],\n",
      "        [0.75      , 0.71875   , 0.67578125]],\n",
      "\n",
      "       [[0.99609375, 0.99609375, 0.9609375 ],\n",
      "        [0.9921875 , 0.9921875 , 0.984375  ],\n",
      "        [0.99609375, 0.99609375, 0.99609375],\n",
      "        ...,\n",
      "        [0.8828125 , 0.85546875, 0.79296875],\n",
      "        [0.8359375 , 0.8046875 , 0.75390625],\n",
      "        [0.73828125, 0.70703125, 0.6640625 ]]]), array([[[0.99609375, 0.99609375, 0.99609375],\n",
      "        [0.99609375, 0.99609375, 0.99609375],\n",
      "        [0.99609375, 0.99609375, 0.99609375],\n",
      "        ...,\n",
      "        [0.99609375, 0.99609375, 0.99609375],\n",
      "        [0.99609375, 0.99609375, 0.99609375],\n",
      "        [0.99609375, 0.99609375, 0.99609375]],\n",
      "\n",
      "       [[0.99609375, 0.99609375, 0.99609375],\n",
      "        [0.99609375, 0.99609375, 0.99609375],\n",
      "        [0.99609375, 0.99609375, 0.99609375],\n",
      "        ...,\n",
      "        [0.99609375, 0.99609375, 0.99609375],\n",
      "        [0.99609375, 0.99609375, 0.99609375],\n",
      "        [0.99609375, 0.99609375, 0.99609375]],\n",
      "\n",
      "       [[0.99609375, 0.99609375, 0.99609375],\n",
      "        [0.99609375, 0.99609375, 0.99609375],\n",
      "        [0.99609375, 0.99609375, 0.99609375],\n",
      "        ...,\n",
      "        [0.99609375, 0.99609375, 0.99609375],\n",
      "        [0.99609375, 0.99609375, 0.99609375],\n",
      "        [0.99609375, 0.99609375, 0.99609375]],\n",
      "\n",
      "       ...,\n",
      "\n",
      "       [[0.99609375, 0.99609375, 0.99609375],\n",
      "        [0.99609375, 0.99609375, 0.99609375],\n",
      "        [0.99609375, 0.99609375, 0.99609375],\n",
      "        ...,\n",
      "        [0.99609375, 0.99609375, 0.99609375],\n",
      "        [0.99609375, 0.99609375, 0.99609375],\n",
      "        [0.99609375, 0.99609375, 0.99609375]],\n",
      "\n",
      "       [[0.99609375, 0.99609375, 0.99609375],\n",
      "        [0.99609375, 0.99609375, 0.99609375],\n",
      "        [0.99609375, 0.99609375, 0.99609375],\n",
      "        ...,\n",
      "        [0.99609375, 0.99609375, 0.99609375],\n",
      "        [0.99609375, 0.99609375, 0.99609375],\n",
      "        [0.99609375, 0.99609375, 0.99609375]],\n",
      "\n",
      "       [[0.99609375, 0.99609375, 0.99609375],\n",
      "        [0.99609375, 0.99609375, 0.99609375],\n",
      "        [0.99609375, 0.99609375, 0.99609375],\n",
      "        ...,\n",
      "        [0.99609375, 0.99609375, 0.99609375],\n",
      "        [0.99609375, 0.99609375, 0.99609375],\n",
      "        [0.99609375, 0.99609375, 0.99609375]]])]\n",
      "['예측/예측1.jpg', '예측/예측2.jpg']\n"
     ]
    }
   ],
   "source": [
    "X1 = []\n",
    "files = []\n",
    "\n",
    "# 이미지 불러오기\n",
    "for fname in image_files:\n",
    "  print(fname)\n",
    "  img = Image.open(fname)\n",
    "  img = img.convert(\"RGB\")\n",
    "  img = img.resize((image_size, image_size))\n",
    "  in_data = np.asarray(img)\n",
    "  in_data = in_data.astype(\"float\") / 256\n",
    "  X1.append(in_data)\n",
    "  files.append(fname)\n",
    "print(X1)\n",
    "print(files)"
   ]
  },
  {
   "cell_type": "code",
   "execution_count": 0,
   "metadata": {
    "colab": {
     "base_uri": "https://localhost:8080/",
     "height": 90
    },
    "colab_type": "code",
    "executionInfo": {
     "elapsed": 2250,
     "status": "ok",
     "timestamp": 1571385112561,
     "user": {
      "displayName": "김봉수",
      "photoUrl": "",
      "userId": "13387137173273535318"
     },
     "user_tz": -540
    },
    "id": "yN3lRzVM2HyF",
    "outputId": "fcda5c78-1af1-4cb2-80cf-509989236681"
   },
   "outputs": [
    {
     "name": "stdout",
     "output_type": "stream",
     "text": [
      "입력: 예측/예측1.jpg\n",
      "예측: [ 0 ] top / Score 1.0\n",
      "입력: 예측/예측2.jpg\n",
      "예측: [ 0 ] top / Score 1.0\n"
     ]
    }
   ],
   "source": [
    "X1 = np.array(X1)\n",
    "\n",
    "# 모델 파일 읽어오기 \n",
    "model = load_model('clothes_model_01.h5')\n",
    "\n",
    "# 예측 실행 \n",
    "pre = model.predict(X1)\n",
    "\n",
    "# 예측 결과 출력 \n",
    "for i, p in enumerate(pre):\n",
    "  y = p.argmax()\n",
    "  print(\"입력:\", files[i])\n",
    "  print(\"예측:\", \"[\", y, \"]\", categories[y], \"/ Score\",p[y])"
   ]
  },
  {
   "cell_type": "markdown",
   "metadata": {
    "colab_type": "text",
    "id": "TePhxGjJboXY"
   },
   "source": [
    "# 모델링 - ReLu"
   ]
  },
  {
   "cell_type": "code",
   "execution_count": 0,
   "metadata": {
    "colab": {},
    "colab_type": "code",
    "id": "j3Pd3WA55UTg"
   },
   "outputs": [],
   "source": []
  },
  {
   "cell_type": "code",
   "execution_count": 0,
   "metadata": {
    "colab": {},
    "colab_type": "code",
    "id": "5smbPdNJ5Vt9"
   },
   "outputs": [],
   "source": []
  },
  {
   "cell_type": "code",
   "execution_count": 0,
   "metadata": {
    "colab": {},
    "colab_type": "code",
    "id": "3dY5V7BH2ZBG"
   },
   "outputs": [],
   "source": []
  }
 ],
 "metadata": {
  "accelerator": "TPU",
  "colab": {
   "collapsed_sections": [],
   "name": "img_model.ipynb",
   "provenance": [],
   "toc_visible": true
  },
  "kernelspec": {
   "display_name": "Python 3",
   "language": "python",
   "name": "python3"
  },
  "language_info": {
   "codemirror_mode": {
    "name": "ipython",
    "version": 3
   },
   "file_extension": ".py",
   "mimetype": "text/x-python",
   "name": "python",
   "nbconvert_exporter": "python",
   "pygments_lexer": "ipython3",
   "version": "3.7.3"
  }
 },
 "nbformat": 4,
 "nbformat_minor": 1
}
